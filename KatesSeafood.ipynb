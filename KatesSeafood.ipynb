{
 "cells": [
  {
   "cell_type": "markdown",
   "metadata": {},
   "source": [
    "# Webscraping Yelp: Kates Seafood \n",
    "\n",
    "Author: Megan Schaeb  \n",
    "Date: 8/14/2023"
   ]
  },
  {
   "cell_type": "code",
   "execution_count": 1,
   "metadata": {},
   "outputs": [],
   "source": [
    "import requests\n",
    "import bs4"
   ]
  },
  {
   "cell_type": "markdown",
   "metadata": {},
   "source": [
    "## Scraping Function"
   ]
  },
  {
   "cell_type": "code",
   "execution_count": 2,
   "metadata": {},
   "outputs": [],
   "source": [
    "def scrape_page(soup, all_reviews, page):\n",
    "    '''\n",
    "    Scrape current page of reviews\n",
    "    \n",
    "    Input\n",
    "    -----\n",
    "    soup: parsed text for current page\n",
    "    all_reviews: dictionary of reviews that have been processed\n",
    "    page: integer representing the current page of reviews\n",
    "    \n",
    "    Return\n",
    "    ------\n",
    "    all_reviews\n",
    "    page\n",
    "    '''\n",
    "    \n",
    "    # isolate review section of page\n",
    "    review_section = soup.find_all(\"ul\", {\"class\": \"undefined list__09f24__ynIEd\"})\n",
    "    review_section = review_section[7]\n",
    "    \n",
    "    # isolate individual reviews\n",
    "    review_blocks = review_section.find_all(\"li\", {\"class\": \"margin-b5__09f24__pTvws border-color--default__09f24__NPAKY\"})\n",
    "\n",
    "    # pull review information\n",
    "    for i in range(0, len(review_blocks)):\n",
    "        reviewer_name = review_blocks[i].find(\"a\", {\"class\":\"css-19v1rkv\", \"role\":\"link\"}).text\n",
    "        star_rating = review_blocks[i].find(\"div\", {\"role\": \"img\"}).get(\"aria-label\")\n",
    "        text = review_blocks[i].find(\"span\", {\"class\": \"raw__09f24__T4Ezm\", \"lang\": \"en\"}).text\n",
    "        review_date = review_blocks[i].find(\"span\", {\"class\": \"css-chan6m\"}).text\n",
    "        reviewer_loc = review_blocks[i].find(\"span\", {\"class\": \"css-qgunke\"}).text\n",
    "        review_info = {\"reviewer_name\": reviewer_name, \n",
    "                   \"reviewer_loc\": reviewer_loc, \n",
    "                   \"review_date\": review_date,\n",
    "                   \"star_rating\": star_rating,\n",
    "                   \"review_text\": text}\n",
    "        all_reviews[\"Review {num:.0f}\".format(num=(1 + i + (page * 10)))] = review_info\n",
    "            \n",
    "      \n",
    "    return all_reviews\n",
    "\n",
    "\n",
    "def good_code(response):\n",
    "    '''\n",
    "    Check if page response code is 200\n",
    "    \n",
    "    Input\n",
    "    -----\n",
    "    response: page request\n",
    "    \n",
    "    Return\n",
    "    ------\n",
    "    True if code is 200, False otherwise\n",
    "    '''\n",
    "    \n",
    "    return response.status_code == 200\n",
    "    \n",
    "\n",
    "def scrape_kates(start_url, all_reviews={}, page=0):\n",
    "    \n",
    "    \n",
    "    # access start page\n",
    "    current_page = page\n",
    "    \n",
    "    response = requests.get(start_url)\n",
    "    if not good_code(response):\n",
    "        return \"Error\"\n",
    "    \n",
    "    # put html through text parser\n",
    "    soup = bs4.BeautifulSoup(response.text, \"html5lib\")\n",
    "    \n",
    "    # get total number of pages of reviews\n",
    "    page_nav = soup.find(\"div\", {\"aria-label\":\"Pagination navigation\", \"role\": \"navigation\"})\n",
    "    page_nums = page_nav.find(\"span\", {\"class\": \"css-chan6m\"}).text\n",
    "    total_pages = int(page_nums.split(\"of \")[1])\n",
    "    \n",
    "    soup_pages = [soup]\n",
    "    for i in range(1, total_pages):\n",
    "    \n",
    "        multiplier = len(soup_pages)\n",
    "        link = \"https://www.yelp.com/biz/kates-fried-seafood-and-ice-cream-brewster-2?start=\" + str(10*multiplier)\n",
    "        next_response = requests.get(link)\n",
    "        if not good_code(next_response):\n",
    "            return \"Error\"\n",
    "        # put html through text parser\n",
    "        next_soup = bs4.BeautifulSoup(next_response.text, \"html5lib\")\n",
    "        soup_pages.append(next_soup)\n",
    "            \n",
    "    print(len(soup_pages))\n",
    "   \n",
    "    for page in soup_pages:\n",
    "        all_reviews = scrape_page(page, all_reviews, current_page)\n",
    "        current_page += 1\n",
    "        \n",
    "    return all_reviews"
   ]
  },
  {
   "cell_type": "code",
   "execution_count": 3,
   "metadata": {},
   "outputs": [
    {
     "name": "stdout",
     "output_type": "stream",
     "text": [
      "13\n"
     ]
    }
   ],
   "source": [
    "# scrape review data\n",
    "review_data = scrape_kates(\"https://www.yelp.com/biz/kates-fried-seafood-and-ice-cream-brewster-2\", all_reviews={}, page=0)"
   ]
  },
  {
   "cell_type": "code",
   "execution_count": 9,
   "metadata": {},
   "outputs": [
    {
     "data": {
      "text/plain": [
       "{'reviewer_name': 'Ann P.',\n",
       " 'reviewer_loc': 'South Dennis, MA',\n",
       " 'review_date': '6/12/2023',\n",
       " 'star_rating': '5 star rating',\n",
       " 'review_text': \"A group of us enjoyed lunch today. Service was flawless and the food, amazing. I love fish sandwiches and Kate's version is wonderful. The setting is perfect for outside dining. There are places you go that feel like home. Kate's is one of them with a welcoming vibe and tasty food.\"}"
      ]
     },
     "execution_count": 9,
     "metadata": {},
     "output_type": "execute_result"
    }
   ],
   "source": [
    "# scraped review data\n",
    "review_data[\"Review 1\"]"
   ]
  },
  {
   "cell_type": "markdown",
   "metadata": {},
   "source": [
    "## Build DataFrame & Export Data to Excel\n",
    "\n",
    "Export scraped review data to Excel"
   ]
  },
  {
   "cell_type": "code",
   "execution_count": 5,
   "metadata": {},
   "outputs": [],
   "source": [
    "import pandas as pd"
   ]
  },
  {
   "cell_type": "code",
   "execution_count": 6,
   "metadata": {},
   "outputs": [],
   "source": [
    "review_df = pd.DataFrame(review_data)\n",
    "review_df = review_df.T"
   ]
  },
  {
   "cell_type": "code",
   "execution_count": 7,
   "metadata": {},
   "outputs": [
    {
     "data": {
      "text/html": [
       "<div>\n",
       "<style scoped>\n",
       "    .dataframe tbody tr th:only-of-type {\n",
       "        vertical-align: middle;\n",
       "    }\n",
       "\n",
       "    .dataframe tbody tr th {\n",
       "        vertical-align: top;\n",
       "    }\n",
       "\n",
       "    .dataframe thead th {\n",
       "        text-align: right;\n",
       "    }\n",
       "</style>\n",
       "<table border=\"1\" class=\"dataframe\">\n",
       "  <thead>\n",
       "    <tr style=\"text-align: right;\">\n",
       "      <th></th>\n",
       "      <th>reviewer_name</th>\n",
       "      <th>reviewer_loc</th>\n",
       "      <th>review_date</th>\n",
       "      <th>star_rating</th>\n",
       "      <th>review_text</th>\n",
       "    </tr>\n",
       "  </thead>\n",
       "  <tbody>\n",
       "    <tr>\n",
       "      <th>Review 1</th>\n",
       "      <td>Ann P.</td>\n",
       "      <td>South Dennis, MA</td>\n",
       "      <td>6/12/2023</td>\n",
       "      <td>5 star rating</td>\n",
       "      <td>A group of us enjoyed lunch today. Service was...</td>\n",
       "    </tr>\n",
       "    <tr>\n",
       "      <th>Review 2</th>\n",
       "      <td>K S.</td>\n",
       "      <td>Newtown, CT</td>\n",
       "      <td>8/7/2023</td>\n",
       "      <td>1 star rating</td>\n",
       "      <td>Are you kidding me?  Here we go with no real m...</td>\n",
       "    </tr>\n",
       "    <tr>\n",
       "      <th>Review 3</th>\n",
       "      <td>David S.</td>\n",
       "      <td>San Francisco, CA</td>\n",
       "      <td>8/30/2022</td>\n",
       "      <td>4 star rating</td>\n",
       "      <td>Was back at Kate's for the 2nd time this summe...</td>\n",
       "    </tr>\n",
       "    <tr>\n",
       "      <th>Review 4</th>\n",
       "      <td>Lori G.</td>\n",
       "      <td>Maricopa, AZ</td>\n",
       "      <td>6/7/2022</td>\n",
       "      <td>5 star rating</td>\n",
       "      <td>Kate's is open again this summer and they've u...</td>\n",
       "    </tr>\n",
       "    <tr>\n",
       "      <th>Review 5</th>\n",
       "      <td>Brittany K.</td>\n",
       "      <td>San Francisco, CA</td>\n",
       "      <td>6/22/2021</td>\n",
       "      <td>5 star rating</td>\n",
       "      <td>The clam strips were fantastic, Cape Cod Reube...</td>\n",
       "    </tr>\n",
       "    <tr>\n",
       "      <th>...</th>\n",
       "      <td>...</td>\n",
       "      <td>...</td>\n",
       "      <td>...</td>\n",
       "      <td>...</td>\n",
       "      <td>...</td>\n",
       "    </tr>\n",
       "    <tr>\n",
       "      <th>Review 120</th>\n",
       "      <td>Jan A.</td>\n",
       "      <td>South Salem, NY</td>\n",
       "      <td>9/14/2008</td>\n",
       "      <td>4 star rating</td>\n",
       "      <td>Window service. I have only every had the ice ...</td>\n",
       "    </tr>\n",
       "    <tr>\n",
       "      <th>Review 121</th>\n",
       "      <td>K. L.</td>\n",
       "      <td>Trumbull, CT</td>\n",
       "      <td>8/19/2013</td>\n",
       "      <td>3 star rating</td>\n",
       "      <td>This place is OK but not the best ice cream. O...</td>\n",
       "    </tr>\n",
       "    <tr>\n",
       "      <th>Review 122</th>\n",
       "      <td>Brooke K.</td>\n",
       "      <td>Woburn, MA</td>\n",
       "      <td>5/14/2012</td>\n",
       "      <td>5 star rating</td>\n",
       "      <td>When my husband, who's been coming here for ye...</td>\n",
       "    </tr>\n",
       "    <tr>\n",
       "      <th>Review 123</th>\n",
       "      <td>Tom H.</td>\n",
       "      <td>Braintree, MA</td>\n",
       "      <td>9/1/2013</td>\n",
       "      <td>5 star rating</td>\n",
       "      <td>Hidden gem.  Drive past this place for 10 year...</td>\n",
       "    </tr>\n",
       "    <tr>\n",
       "      <th>Review 124</th>\n",
       "      <td>Norma T.</td>\n",
       "      <td>Eastham, MA</td>\n",
       "      <td>8/2/2013</td>\n",
       "      <td>1 star rating</td>\n",
       "      <td>Ordered the whole belly clam roll and it was t...</td>\n",
       "    </tr>\n",
       "  </tbody>\n",
       "</table>\n",
       "<p>124 rows × 5 columns</p>\n",
       "</div>"
      ],
      "text/plain": [
       "           reviewer_name       reviewer_loc review_date    star_rating  \\\n",
       "Review 1          Ann P.   South Dennis, MA   6/12/2023  5 star rating   \n",
       "Review 2            K S.        Newtown, CT    8/7/2023  1 star rating   \n",
       "Review 3        David S.  San Francisco, CA   8/30/2022  4 star rating   \n",
       "Review 4         Lori G.       Maricopa, AZ    6/7/2022  5 star rating   \n",
       "Review 5     Brittany K.  San Francisco, CA   6/22/2021  5 star rating   \n",
       "...                  ...                ...         ...            ...   \n",
       "Review 120        Jan A.    South Salem, NY   9/14/2008  4 star rating   \n",
       "Review 121         K. L.       Trumbull, CT   8/19/2013  3 star rating   \n",
       "Review 122     Brooke K.         Woburn, MA   5/14/2012  5 star rating   \n",
       "Review 123        Tom H.      Braintree, MA    9/1/2013  5 star rating   \n",
       "Review 124      Norma T.        Eastham, MA    8/2/2013  1 star rating   \n",
       "\n",
       "                                                  review_text  \n",
       "Review 1    A group of us enjoyed lunch today. Service was...  \n",
       "Review 2    Are you kidding me?  Here we go with no real m...  \n",
       "Review 3    Was back at Kate's for the 2nd time this summe...  \n",
       "Review 4    Kate's is open again this summer and they've u...  \n",
       "Review 5    The clam strips were fantastic, Cape Cod Reube...  \n",
       "...                                                       ...  \n",
       "Review 120  Window service. I have only every had the ice ...  \n",
       "Review 121  This place is OK but not the best ice cream. O...  \n",
       "Review 122  When my husband, who's been coming here for ye...  \n",
       "Review 123  Hidden gem.  Drive past this place for 10 year...  \n",
       "Review 124  Ordered the whole belly clam roll and it was t...  \n",
       "\n",
       "[124 rows x 5 columns]"
      ]
     },
     "execution_count": 7,
     "metadata": {},
     "output_type": "execute_result"
    }
   ],
   "source": [
    "review_df"
   ]
  },
  {
   "cell_type": "code",
   "execution_count": 8,
   "metadata": {},
   "outputs": [],
   "source": [
    "# review_df.to_excel(\"KatesReviews.xlsx\", sheet_name='Sheet1')"
   ]
  }
 ],
 "metadata": {
  "kernelspec": {
   "display_name": "Python 3",
   "language": "python",
   "name": "python3"
  },
  "language_info": {
   "codemirror_mode": {
    "name": "ipython",
    "version": 3
   },
   "file_extension": ".py",
   "mimetype": "text/x-python",
   "name": "python",
   "nbconvert_exporter": "python",
   "pygments_lexer": "ipython3",
   "version": "3.8.8"
  }
 },
 "nbformat": 4,
 "nbformat_minor": 1
}
